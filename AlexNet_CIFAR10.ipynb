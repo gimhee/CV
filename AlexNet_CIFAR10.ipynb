{
  "cells": [
    {
      "cell_type": "markdown",
      "metadata": {
        "id": "view-in-github",
        "colab_type": "text"
      },
      "source": [
        "<a href=\"https://colab.research.google.com/github/gimhee/CV/blob/main/AlexNet_CIFAR10.ipynb\" target=\"_parent\"><img src=\"https://colab.research.google.com/assets/colab-badge.svg\" alt=\"Open In Colab\"/></a>"
      ]
    },
    {
      "cell_type": "markdown",
      "metadata": {
        "id": "W5_UZYtipg5G"
      },
      "source": [
        "**Load Modules**"
      ]
    },
    {
      "cell_type": "code",
      "execution_count": 1,
      "metadata": {
        "id": "vfp7N5Umk3dX"
      },
      "outputs": [],
      "source": [
        "# Utils\n",
        "import numpy as np\n",
        "import pandas as pd\n",
        "import seaborn as sns\n",
        "import matplotlib.pyplot as plt\n",
        "from tqdm import tqdm\n",
        "\n",
        "# Torch\n",
        "import torch\n",
        "import torch.nn as nn\n",
        "import torch.nn.functional as F\n",
        "from torchsummary import summary\n",
        "from torchvision import transforms\n",
        "import torchvision\n",
        "from torchvision.utils import make_grid\n",
        "\n",
        "# sklearn\n",
        "from sklearn.metrics import confusion_matrix, classification_report"
      ]
    },
    {
      "cell_type": "markdown",
      "metadata": {
        "id": "uoTlV1PEpg5I"
      },
      "source": [
        "**Hyperparameters**"
      ]
    },
    {
      "cell_type": "code",
      "execution_count": 2,
      "metadata": {
        "id": "-Um6IJSolG7D"
      },
      "outputs": [],
      "source": [
        "learning_rate = 0.0001\n",
        "training_epochs = 10\n",
        "batch_size = 128"
      ]
    },
    {
      "cell_type": "markdown",
      "source": [
        "**CIFAR-10 dataset**"
      ],
      "metadata": {
        "id": "SaALx23L9mgj"
      }
    },
    {
      "cell_type": "code",
      "execution_count": 3,
      "metadata": {
        "colab": {
          "base_uri": "https://localhost:8080/"
        },
        "id": "cpJbxnEElG3l",
        "outputId": "8c1a6737-ba29-4ce9-be7f-01a842eb22d9"
      },
      "outputs": [
        {
          "output_type": "stream",
          "name": "stdout",
          "text": [
            "Downloading https://www.cs.toronto.edu/~kriz/cifar-10-python.tar.gz to ./cifar10/cifar-10-python.tar.gz\n"
          ]
        },
        {
          "output_type": "stream",
          "name": "stderr",
          "text": [
            "100%|██████████| 170498071/170498071 [00:12<00:00, 13892443.54it/s]\n"
          ]
        },
        {
          "output_type": "stream",
          "name": "stdout",
          "text": [
            "Extracting ./cifar10/cifar-10-python.tar.gz to ./cifar10\n",
            "Files already downloaded and verified\n"
          ]
        }
      ],
      "source": [
        "train_set = torchvision.datasets.CIFAR10(root='./cifar10', train=True, download=True, transform=transforms.ToTensor())\n",
        "test_set = torchvision.datasets.CIFAR10(root='./cifar10', train=False, download=True, transform=transforms.ToTensor())"
      ]
    },
    {
      "cell_type": "code",
      "execution_count": 4,
      "metadata": {
        "id": "1HAlEzerptj6"
      },
      "outputs": [],
      "source": [
        "trainloader = torch.utils.data.DataLoader(train_set, batch_size=batch_size, shuffle=True, num_workers=2)\n",
        "testloader = torch.utils.data.DataLoader(test_set, batch_size=batch_size, shuffle=True, num_workers=2)"
      ]
    },
    {
      "cell_type": "code",
      "execution_count": 5,
      "metadata": {
        "id": "YfUU4HGzpg5J",
        "colab": {
          "base_uri": "https://localhost:8080/",
          "height": 448
        },
        "outputId": "26b93438-6bce-44d6-b222-65ab3248e88c"
      },
      "outputs": [
        {
          "output_type": "display_data",
          "data": {
            "text/plain": [
              "<Figure size 500x700 with 1 Axes>"
            ],
            "image/png": "[encoded data removed]"
          },
          "metadata": {}
        }
      ],
      "source": [
        "#check the data(image)\n",
        "dataiter = iter(train_set)\n",
        "images, labels = next(dataiter)\n",
        "\n",
        "img   = make_grid(images, padding=0)\n",
        "npimg = img.numpy()\n",
        "plt.figure(figsize=(5, 7))\n",
        "plt.imshow(np.transpose(npimg, (1,2,0)))\n",
        "plt.show()"
      ]
    },
    {
      "cell_type": "markdown",
      "metadata": {
        "id": "BFXmrQrSpg5K"
      },
      "source": [
        "**Image Preprocessing**\n",
        "- normalize by RGB channel (mean, STD)\n",
        "- resize and crop the image"
      ]
    },
    {
      "cell_type": "code",
      "execution_count": 6,
      "metadata": {
        "colab": {
          "base_uri": "https://localhost:8080/"
        },
        "id": "jLUXJFMAlG1l",
        "outputId": "abaeb5e5-b2ca-41dd-8631-693eaf9d92a5"
      },
      "outputs": [
        {
          "output_type": "stream",
          "name": "stdout",
          "text": [
            "0.49139965 0.48215845 0.4465309\n",
            "0.20220213 0.19931543 0.20086348\n"
          ]
        }
      ],
      "source": [
        "train_meanRGB = [np.mean(x.numpy(), axis=(1,2)) for x, _ in train_set]\n",
        "train_stdRGB = [np.std(x.numpy(), axis=(1,2)) for x, _ in train_set]\n",
        "\n",
        "train_meanR = np.mean([m[0] for m in train_meanRGB])\n",
        "train_meanG = np.mean([m[1] for m in train_meanRGB])\n",
        "train_meanB = np.mean([m[2] for m in train_meanRGB])\n",
        "train_stdR = np.mean([s[0] for s in train_stdRGB])\n",
        "train_stdG = np.mean([s[1] for s in train_stdRGB])\n",
        "train_stdB = np.mean([s[2] for s in train_stdRGB])\n",
        "\n",
        "print(train_meanR, train_meanG, train_meanB)\n",
        "print(train_stdR, train_stdG, train_stdB)"
      ]
    },
    {
      "cell_type": "code",
      "execution_count": 7,
      "metadata": {
        "id": "qN_A7vtZlGzh"
      },
      "outputs": [],
      "source": [
        "train_transformer = transforms.Compose([transforms.Resize((256,256)),\n",
        "                                        transforms.CenterCrop(227),\n",
        "                                        transforms.ToTensor(),\n",
        "                                        transforms.Normalize(mean=[train_meanR, train_meanG, train_meanB],\n",
        "                                                             std=[train_stdR, train_stdG, train_stdB])])\n",
        "\n",
        "train_set.transform = train_transformer\n",
        "test_set.transform = train_transformer"
      ]
    },
    {
      "cell_type": "markdown",
      "metadata": {
        "id": "3LYpnY8Apg5L"
      },
      "source": [
        "**AlexNet Model**\n",
        "\n",
        "Instead of ImageNet, using CIFAR-10. Thus, the number of paramater is slightly different(62,378,344 -> 58,322,314)\n",
        "\n",
        "(the last FC layer output is 10, instead of 1000 because of the number of classes)"
      ]
    },
    {
      "cell_type": "code",
      "execution_count": 8,
      "metadata": {
        "id": "47Gyt7bmlGwN"
      },
      "outputs": [],
      "source": [
        "class AlexNet(nn.Module):\n",
        "\n",
        "    def __init__(self):\n",
        "        super().__init__()\n",
        "\n",
        "        #five convolution layers\n",
        "        self.conv = nn.Sequential(\n",
        "            nn.Conv2d(in_channels=3, out_channels=96, kernel_size=11, stride=4),\n",
        "            nn.ReLU(inplace=True),\n",
        "            nn.LocalResponseNorm(size=5, alpha=1e-4, beta=0.75, k=2),\n",
        "            nn.MaxPool2d(kernel_size=3, stride=2),\n",
        "\n",
        "            nn.Conv2d(in_channels=96, out_channels=256, kernel_size=5, padding=2),\n",
        "            nn.ReLU(inplace=True),\n",
        "            nn.LocalResponseNorm(size=5, alpha=1e-4, beta=0.75, k=2),\n",
        "            nn.MaxPool2d(kernel_size=3, stride=2),\n",
        "\n",
        "            nn.Conv2d(in_channels=256, out_channels=384, kernel_size=3, padding=1),\n",
        "            nn.ReLU(inplace=True),\n",
        "\n",
        "            nn.Conv2d(in_channels=384, out_channels=384, kernel_size=3, padding=1),\n",
        "            nn.ReLU(inplace=True),\n",
        "\n",
        "            nn.Conv2d(in_channels=384, out_channels=256, kernel_size=3, padding=1),\n",
        "            nn.ReLU(inplace=True),\n",
        "            nn.MaxPool2d(kernel_size=3, stride=2)\n",
        "        )\n",
        "\n",
        "        #three fully-connected layers\n",
        "        self.fc = nn.Sequential(\n",
        "            nn.Linear(in_features=256 * 6 * 6, out_features=4096),\n",
        "            nn.ReLU(inplace=True),\n",
        "            nn.Dropout(p=0.5),\n",
        "\n",
        "            nn.Linear(in_features=4096, out_features=4096),\n",
        "            nn.ReLU(inplace=True),\n",
        "            nn.Dropout(p=0.5),\n",
        "\n",
        "            nn.Linear(in_features=4096, out_features=10),\n",
        "            nn.LogSoftmax(dim=1)\n",
        "        )\n",
        "\n",
        "        self.apply(self._init_weight_bias)\n",
        "\n",
        "    def _init_weight_bias(self, module):    #가중치\n",
        "        classname = module.__class__.__name__\n",
        "        if classname == 'Conv2d':\n",
        "            nn.init.normal_(module.weight, mean=0.0, std=0.01)\n",
        "            nn.init.constant_(module.bias, 0)\n",
        "            if (module.in_channels == 96 or module.in_channels == 384):\n",
        "              nn.init.constant_(module.bias, 1)\n",
        "\n",
        "    def forward(self, x):\n",
        "        x = self.conv(x)\n",
        "        x = x.view(x.size(0), -1)   #fully-connected layer에 넣기 위해 Flatten\n",
        "        x = self.fc(x)\n",
        "\n",
        "        return x"
      ]
    },
    {
      "cell_type": "markdown",
      "metadata": {
        "id": "fSjluF6rpg5L"
      },
      "source": [
        "**Set Device and Model (w. loss, optimizer)**"
      ]
    },
    {
      "cell_type": "code",
      "execution_count": 9,
      "metadata": {
        "colab": {
          "base_uri": "https://localhost:8080/"
        },
        "id": "WfOaJAMhlGtm",
        "outputId": "d7b8a621-34f6-4bf8-c898-67dc8070adf5"
      },
      "outputs": [
        {
          "output_type": "stream",
          "name": "stdout",
          "text": [
            "use_cuda :  True\n",
            "tensor([[-2.6906, -2.1422, -2.5089, -2.0479, -2.5362, -2.0646, -2.3612, -2.1455,\n",
            "         -2.4216, -2.3200]], device='cuda:0', grad_fn=<LogSoftmaxBackward0>)\n",
            "----------------------------------------------------------------\n",
            "        Layer (type)               Output Shape         Param #\n",
            "================================================================\n",
            "            Conv2d-1           [-1, 96, 55, 55]          34,944\n",
            "              ReLU-2           [-1, 96, 55, 55]               0\n",
            " LocalResponseNorm-3           [-1, 96, 55, 55]               0\n",
            "         MaxPool2d-4           [-1, 96, 27, 27]               0\n",
            "            Conv2d-5          [-1, 256, 27, 27]         614,656\n",
            "              ReLU-6          [-1, 256, 27, 27]               0\n",
            " LocalResponseNorm-7          [-1, 256, 27, 27]               0\n",
            "         MaxPool2d-8          [-1, 256, 13, 13]               0\n",
            "            Conv2d-9          [-1, 384, 13, 13]         885,120\n",
            "             ReLU-10          [-1, 384, 13, 13]               0\n",
            "           Conv2d-11          [-1, 384, 13, 13]       1,327,488\n",
            "             ReLU-12          [-1, 384, 13, 13]               0\n",
            "           Conv2d-13          [-1, 256, 13, 13]         884,992\n",
            "             ReLU-14          [-1, 256, 13, 13]               0\n",
            "        MaxPool2d-15            [-1, 256, 6, 6]               0\n",
            "           Linear-16                 [-1, 4096]      37,752,832\n",
            "             ReLU-17                 [-1, 4096]               0\n",
            "          Dropout-18                 [-1, 4096]               0\n",
            "           Linear-19                 [-1, 4096]      16,781,312\n",
            "             ReLU-20                 [-1, 4096]               0\n",
            "          Dropout-21                 [-1, 4096]               0\n",
            "           Linear-22                   [-1, 10]          40,970\n",
            "       LogSoftmax-23                   [-1, 10]               0\n",
            "================================================================\n",
            "Total params: 58,322,314\n",
            "Trainable params: 58,322,314\n",
            "Non-trainable params: 0\n",
            "----------------------------------------------------------------\n",
            "Input size (MB): 0.59\n",
            "Forward/backward pass size (MB): 14.68\n",
            "Params size (MB): 222.48\n",
            "Estimated Total Size (MB): 237.75\n",
            "----------------------------------------------------------------\n",
            "None\n"
          ]
        }
      ],
      "source": [
        "use_cuda = torch.cuda.is_available()\n",
        "print(\"use_cuda : \", use_cuda)\n",
        "\n",
        "FloatTensor = torch.cuda.FloatTensor if use_cuda else torch.FloatTensor\n",
        "device = torch.device(\"cuda:0\" if use_cuda else \"cpu\")\n",
        "\n",
        "net = AlexNet().to(device)\n",
        "\n",
        "X = torch.randn(size=(1,3,227,227)).type(FloatTensor)\n",
        "print(net(X))\n",
        "print(summary(net, (3,227,227)))"
      ]
    },
    {
      "cell_type": "code",
      "execution_count": 10,
      "metadata": {
        "id": "0pK2jFGNlGqv"
      },
      "outputs": [],
      "source": [
        "model = AlexNet().to(device)\n",
        "criterion = F.nll_loss\n",
        "optimizer = torch.optim.Adam(model.parameters(), lr=learning_rate)"
      ]
    },
    {
      "cell_type": "markdown",
      "metadata": {
        "id": "PUCiV85Upg5M"
      },
      "source": [
        "**Training**"
      ]
    },
    {
      "cell_type": "code",
      "execution_count": 22,
      "metadata": {
        "id": "ON2gORnglGn4"
      },
      "outputs": [],
      "source": [
        "def train(model, train_loader, epoch):\n",
        "    model.train()\n",
        "    for batch_idx, (data,target) in enumerate(train_loader):\n",
        "        target = target.type(torch.LongTensor)\n",
        "        data, target = data.to(device), target.to(device)\n",
        "\n",
        "        optimizer.zero_grad()\n",
        "        output = model(data)\n",
        "        loss = criterion(output, target)\n",
        "        loss.backward()\n",
        "        optimizer.step()\n",
        "\n",
        "        if batch_idx % 50 == 0:\n",
        "            print(f\"{batch_idx*len(data)}/{len(train_loader.dataset)}\")"
      ]
    },
    {
      "cell_type": "code",
      "execution_count": 23,
      "metadata": {
        "id": "coYV2dfwlGj5"
      },
      "outputs": [],
      "source": [
        "def test(model, device, test_loader):\n",
        "    model.eval()\n",
        "    test_loss = 0\n",
        "    correct = 0\n",
        "    with torch.no_grad():\n",
        "        for data, target in test_loader:\n",
        "            data, target = data.to(device), target.to(device)\n",
        "            output = model(data)\n",
        "            test_loss += criterion(output, target, reduction='mean').item()\n",
        "            pred = output.argmax(1)\n",
        "            correct += float((pred == target).sum())\n",
        "\n",
        "        test_loss /= len(test_loader.dataset)\n",
        "        correct /= len(test_loader.dataset)\n",
        "\n",
        "        return test_loss, correct"
      ]
    },
    {
      "cell_type": "code",
      "execution_count": 25,
      "metadata": {
        "colab": {
          "base_uri": "https://localhost:8080/"
        },
        "id": "biGYQ9lvlGhe",
        "outputId": "691c450b-dd4e-40a1-97d6-d9d1bddd02a5"
      },
      "outputs": [
        {
          "output_type": "stream",
          "name": "stderr",
          "text": [
            "\r  0%|          | 0/10 [00:00<?, ?it/s]"
          ]
        },
        {
          "output_type": "stream",
          "name": "stdout",
          "text": [
            "0/50000\n",
            "6400/50000\n",
            "12800/50000\n",
            "19200/50000\n",
            "25600/50000\n",
            "32000/50000\n",
            "38400/50000\n",
            "44800/50000\n"
          ]
        },
        {
          "output_type": "stream",
          "name": "stderr",
          "text": [
            "\r 10%|█         | 1/10 [02:06<18:56, 126.30s/it]"
          ]
        },
        {
          "output_type": "stream",
          "name": "stdout",
          "text": [
            "\n",
            " Epoch :   1   Loss : 0.00823301883   Accuracy : 0.6308\n",
            "0/50000\n",
            "6400/50000\n",
            "12800/50000\n",
            "19200/50000\n",
            "25600/50000\n",
            "32000/50000\n",
            "38400/50000\n",
            "44800/50000\n"
          ]
        },
        {
          "output_type": "stream",
          "name": "stderr",
          "text": [
            "\r 20%|██        | 2/10 [04:26<17:54, 134.28s/it]"
          ]
        },
        {
          "output_type": "stream",
          "name": "stdout",
          "text": [
            "\n",
            " Epoch :   2   Loss : 0.00740933921   Accuracy : 0.6782\n",
            "0/50000\n",
            "6400/50000\n",
            "12800/50000\n",
            "19200/50000\n",
            "25600/50000\n",
            "32000/50000\n",
            "38400/50000\n",
            "44800/50000\n"
          ]
        },
        {
          "output_type": "stream",
          "name": "stderr",
          "text": [
            "\r 30%|███       | 3/10 [06:31<15:11, 130.27s/it]"
          ]
        },
        {
          "output_type": "stream",
          "name": "stdout",
          "text": [
            "\n",
            " Epoch :   3   Loss : 0.00706236147   Accuracy : 0.7009\n",
            "0/50000\n",
            "6400/50000\n",
            "12800/50000\n",
            "19200/50000\n",
            "25600/50000\n",
            "32000/50000\n",
            "38400/50000\n",
            "44800/50000\n"
          ]
        },
        {
          "output_type": "stream",
          "name": "stderr",
          "text": [
            "\r 40%|████      | 4/10 [08:36<12:48, 128.08s/it]"
          ]
        },
        {
          "output_type": "stream",
          "name": "stdout",
          "text": [
            "\n",
            " Epoch :   4   Loss : 0.00702854063   Accuracy : 0.7076\n",
            "0/50000\n",
            "6400/50000\n",
            "12800/50000\n",
            "19200/50000\n",
            "25600/50000\n",
            "32000/50000\n",
            "38400/50000\n",
            "44800/50000\n"
          ]
        },
        {
          "output_type": "stream",
          "name": "stderr",
          "text": [
            "\r 50%|█████     | 5/10 [10:38<10:30, 126.02s/it]"
          ]
        },
        {
          "output_type": "stream",
          "name": "stdout",
          "text": [
            "\n",
            " Epoch :   5   Loss : 0.00715350426   Accuracy : 0.7183\n",
            "0/50000\n",
            "6400/50000\n",
            "12800/50000\n",
            "19200/50000\n",
            "25600/50000\n",
            "32000/50000\n",
            "38400/50000\n",
            "44800/50000\n"
          ]
        },
        {
          "output_type": "stream",
          "name": "stderr",
          "text": [
            "\r 60%|██████    | 6/10 [12:44<08:23, 125.79s/it]"
          ]
        },
        {
          "output_type": "stream",
          "name": "stdout",
          "text": [
            "\n",
            " Epoch :   6   Loss : 0.00800642365   Accuracy : 0.7183\n",
            "0/50000\n",
            "6400/50000\n",
            "12800/50000\n",
            "19200/50000\n",
            "25600/50000\n",
            "32000/50000\n",
            "38400/50000\n",
            "44800/50000\n"
          ]
        },
        {
          "output_type": "stream",
          "name": "stderr",
          "text": [
            "\r 70%|███████   | 7/10 [14:48<06:15, 125.20s/it]"
          ]
        },
        {
          "output_type": "stream",
          "name": "stdout",
          "text": [
            "\n",
            " Epoch :   7   Loss : 0.00854281142   Accuracy : 0.7212\n",
            "0/50000\n",
            "6400/50000\n",
            "12800/50000\n",
            "19200/50000\n",
            "25600/50000\n",
            "32000/50000\n",
            "38400/50000\n",
            "44800/50000\n"
          ]
        },
        {
          "output_type": "stream",
          "name": "stderr",
          "text": [
            "\r 80%|████████  | 8/10 [16:51<04:09, 124.62s/it]"
          ]
        },
        {
          "output_type": "stream",
          "name": "stdout",
          "text": [
            "\n",
            " Epoch :   8   Loss : 0.00892837604   Accuracy : 0.721\n",
            "0/50000\n",
            "6400/50000\n",
            "12800/50000\n",
            "19200/50000\n",
            "25600/50000\n",
            "32000/50000\n",
            "38400/50000\n",
            "44800/50000\n"
          ]
        },
        {
          "output_type": "stream",
          "name": "stderr",
          "text": [
            "\r 90%|█████████ | 9/10 [18:55<02:04, 124.41s/it]"
          ]
        },
        {
          "output_type": "stream",
          "name": "stdout",
          "text": [
            "\n",
            " Epoch :   9   Loss : 0.0100845696   Accuracy : 0.7118\n",
            "0/50000\n",
            "6400/50000\n",
            "12800/50000\n",
            "19200/50000\n",
            "25600/50000\n",
            "32000/50000\n",
            "38400/50000\n",
            "44800/50000\n"
          ]
        },
        {
          "output_type": "stream",
          "name": "stderr",
          "text": [
            "100%|██████████| 10/10 [20:59<00:00, 125.95s/it]"
          ]
        },
        {
          "output_type": "stream",
          "name": "stdout",
          "text": [
            "\n",
            " Epoch :  10   Loss : 0.00985071216   Accuracy : 0.7286\n"
          ]
        },
        {
          "output_type": "stream",
          "name": "stderr",
          "text": [
            "\n"
          ]
        }
      ],
      "source": [
        "for epoch in tqdm(range(1, training_epochs + 1)):\n",
        "    train(model, trainloader, epoch)\n",
        "    test_loss, test_accuracy = test(model, device, testloader)\n",
        "\n",
        "    print('\\n Epoch : {:>3}   Loss : {:>.9}   Accuracy : {:>.9}' .format(epoch, test_loss, test_accuracy))"
      ]
    },
    {
      "cell_type": "markdown",
      "metadata": {
        "id": "DJ5omsjDLI7j"
      },
      "source": [
        "**Evaluation**"
      ]
    },
    {
      "cell_type": "code",
      "execution_count": 27,
      "metadata": {
        "id": "6dfhIZcknd9v"
      },
      "outputs": [],
      "source": [
        "classes = ('airplane',\n",
        "           'automobile',\n",
        "           'bird',\n",
        "           'cat',\n",
        "           'deer',\n",
        "           'dog',\n",
        "           'frog',\n",
        "           'horse',\n",
        "           'ship',\n",
        "           'truck')"
      ]
    },
    {
      "cell_type": "code",
      "execution_count": 34,
      "metadata": {
        "id": "DAOLY2UJBpsa"
      },
      "outputs": [],
      "source": [
        "y_pred = []\n",
        "y_true = []\n",
        "\n",
        "for x, y in torch.utils.data.DataLoader(dataset=test_set, batch_size=batch_size):\n",
        "\n",
        "    x = x.to(device)\n",
        "    y = y.to(device)\n",
        "    z = model(x)\n",
        "    _, yhat = torch.max(z, 1)\n",
        "    pred = yhat.data.cpu().numpy()\n",
        "    y_pred.extend(pred) # Save Prediction\n",
        "\n",
        "    labels = y.data.cpu().numpy()\n",
        "    y_true.extend(labels) # Save Truth"
      ]
    },
    {
      "cell_type": "code",
      "source": [
        "#Confusion matrix(Hit map)\n",
        "cf_matrix = confusion_matrix(y_true, y_pred)\n",
        "df_cm = pd.DataFrame(cf_matrix/np.sum(cf_matrix) *10, index = [i for i in classes],\n",
        "                     columns = [i for i in classes])\n",
        "plt.figure(figsize = (9,5))\n",
        "sns.heatmap(df_cm, annot=True)\n",
        "plt.title('Confusion Matrix of AlexNet (CIFAR10)')"
      ],
      "metadata": {
        "colab": {
          "base_uri": "https://localhost:8080/",
          "height": 551
        },
        "id": "rBGuY36vLxHe",
        "outputId": "f87853d8-613f-4da0-b69d-c9dd8696b58d"
      },
      "execution_count": 35,
      "outputs": [
        {
          "output_type": "execute_result",
          "data": {
            "text/plain": [
              "Text(0.5, 1.0, 'Confusion Matrix of AlexNet (CIFAR10)')"
            ]
          },
          "metadata": {},
          "execution_count": 35
        },
        {
          "output_type": "display_data",
          "data": {
            "text/plain": [
              "<Figure size 900x500 with 2 Axes>"
            ],
            "image/png": "[encoded data removed]"
          },
          "metadata": {}
        }
      ]
    },
    {
      "cell_type": "code",
      "execution_count": 52,
      "metadata": {
        "colab": {
          "base_uri": "https://localhost:8080/"
        },
        "id": "rMY5J_LrBpvu",
        "outputId": "0b54aad3-10d3-496f-bf59-b2d0e7d3f026"
      },
      "outputs": [
        {
          "output_type": "stream",
          "name": "stdout",
          "text": [
            "              precision    recall  f1-score   support\n",
            "\n",
            "           0       0.77      0.79      0.78      1000\n",
            "           1       0.85      0.84      0.85      1000\n",
            "           2       0.61      0.68      0.64      1000\n",
            "           3       0.54      0.50      0.52      1000\n",
            "           4       0.68      0.67      0.68      1000\n",
            "           5       0.62      0.64      0.63      1000\n",
            "           6       0.81      0.76      0.78      1000\n",
            "           7       0.76      0.79      0.78      1000\n",
            "           8       0.82      0.83      0.83      1000\n",
            "           9       0.81      0.79      0.80      1000\n",
            "\n",
            "    accuracy                           0.73     10000\n",
            "   macro avg       0.73      0.73      0.73     10000\n",
            "weighted avg       0.73      0.73      0.73     10000\n",
            "\n"
          ]
        }
      ],
      "source": [
        "#Classification Report\n",
        "print(classification_report(y_true, y_pred))"
      ]
    }
  ],
  "metadata": {
    "accelerator": "GPU",
    "colab": {
      "provenance": [],
      "include_colab_link": true
    },
    "kernelspec": {
      "display_name": "Python 3",
      "name": "python3"
    },
    "language_info": {
      "codemirror_mode": {
        "name": "ipython",
        "version": 3
      },
      "file_extension": ".py",
      "mimetype": "text/x-python",
      "name": "python",
      "nbconvert_exporter": "python",
      "pygments_lexer": "ipython3",
      "version": "3.9.13"
    },
    "vscode": {
      "interpreter": {
        "hash": "1fa24f92b28a3ec6f7f8c10b899db1441c6af89cb002efb1bb768901a2ca3010"
      }
    }
  },
  "nbformat": 4,
  "nbformat_minor": 0
}